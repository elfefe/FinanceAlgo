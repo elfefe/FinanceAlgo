{
 "cells": [
  {
   "cell_type": "code",
   "execution_count": 1,
   "id": "e59e8f96-41e6-4b79-9ac1-22557a62984a",
   "metadata": {},
   "outputs": [],
   "source": [
    "from lxml import html\n",
    "import requests\n",
    "import json\n",
    "import re"
   ]
  },
  {
   "cell_type": "code",
   "execution_count": 2,
   "id": "a2f5af79-880a-41f2-98b0-e6295479804b",
   "metadata": {},
   "outputs": [],
   "source": [
    "def query_action(url):\n",
    "    split = url.split('/')\n",
    "    index = len(split) - 1\n",
    "    page = requests.get(\n",
    "        url, \n",
    "        headers={'User-Agent': 'Custom'}\n",
    "    )\n",
    "    tree = html.fromstring(page.content)\n",
    "    tbody = tree.xpath('//tbody')\n",
    "    if len(tbody) > 0:\n",
    "        tr = tbody[0].xpath('//tr')\n",
    "        td = tr[0].xpath('//td')\n",
    "        a = td[0].xpath('//a[@data-test=\"quoteLink\"]/text()')\n",
    "        if a is not None and len(a) > 0:\n",
    "            return split[index], a\n",
    "    return '', []"
   ]
  },
  {
   "cell_type": "code",
   "execution_count": 3,
   "id": "4e20845b-9cc9-4d1a-9f89-a9543fbbd1f4",
   "metadata": {},
   "outputs": [],
   "source": [
    "base = 'https://fr.finance.yahoo.com/screener'\n",
    "page = requests.get(\n",
    "    base, \n",
    "    headers={'User-Agent': 'Custom'}\n",
    ")\n",
    "tree = html.fromstring(page.content)"
   ]
  },
  {
   "cell_type": "code",
   "execution_count": 4,
   "id": "7e27feac-2963-40bf-8121-0e5032f9fa42",
   "metadata": {},
   "outputs": [],
   "source": [
    "href = tree.xpath('//a')"
   ]
  },
  {
   "cell_type": "code",
   "execution_count": 5,
   "id": "6fccaf36-f381-49bf-9816-ab89f202479a",
   "metadata": {},
   "outputs": [
    {
     "name": "stdout",
     "output_type": "stream",
     "text": [
      "Start scraping Stocks...\n"
     ]
    }
   ],
   "source": [
    "print('Start scraping Stocks...')"
   ]
  },
  {
   "cell_type": "code",
   "execution_count": 6,
   "id": "dda3a49e-9864-442e-89c5-9e425ec19d75",
   "metadata": {},
   "outputs": [
    {
     "name": "stdout",
     "output_type": "stream",
     "text": [
      "38/61\n",
      "39/61\n",
      "40/61\n",
      "41/61\n",
      "42/61\n",
      "43/61\n",
      "44/61\n",
      "45/61\n",
      "46/61\n",
      "47/61\n",
      "48/61\n",
      "49/61\n",
      "50/61\n",
      "51/61\n",
      "52/61\n"
     ]
    }
   ],
   "source": [
    "j = json.loads('{}')\n",
    "for h in href:\n",
    "    url = h.get('href')\n",
    "    prefix = '/screener'\n",
    "    if url.startswith(prefix):\n",
    "        r_url = url.replace(prefix, '')\n",
    "        name, actions = query_action(base + r_url)\n",
    "        if len(name) > 0:\n",
    "            j.update({name: actions})\n",
    "            print(str(href.index(h)) + '/' + str(len(href)))"
   ]
  },
  {
   "cell_type": "code",
   "execution_count": 7,
   "id": "b95ac4b8-c414-451c-8538-5282ed59d4f2",
   "metadata": {},
   "outputs": [
    {
     "name": "stdout",
     "output_type": "stream",
     "text": [
      "Write begin...\n"
     ]
    }
   ],
   "source": [
    "print('Write begin...')"
   ]
  },
  {
   "cell_type": "code",
   "execution_count": 8,
   "id": "06908904-494e-401d-9d4d-cd9375338fac",
   "metadata": {},
   "outputs": [],
   "source": [
    "\n",
    "f = open(\"data/Stocks.json\", \"w\")\n",
    "f.write(json.dumps(j))\n",
    "f.close()"
   ]
  },
  {
   "cell_type": "code",
   "execution_count": 9,
   "id": "6c1e5b75-9035-4211-9b29-84c602f76175",
   "metadata": {},
   "outputs": [
    {
     "name": "stdout",
     "output_type": "stream",
     "text": [
      "Write finished !\n"
     ]
    }
   ],
   "source": [
    "print('Write finished !')"
   ]
  },
  {
   "cell_type": "code",
   "execution_count": 9,
   "id": "aeee4163-fb8b-4e24-8d93-8d786b3abcd5",
   "metadata": {},
   "outputs": [],
   "source": []
  }
 ],
 "metadata": {
  "kernelspec": {
   "display_name": "Python 3 (ipykernel)",
   "language": "python",
   "name": "python3"
  },
  "language_info": {
   "codemirror_mode": {
    "name": "ipython",
    "version": 3
   },
   "file_extension": ".py",
   "mimetype": "text/x-python",
   "name": "python",
   "nbconvert_exporter": "python",
   "pygments_lexer": "ipython3",
   "version": "3.8.5"
  }
 },
 "nbformat": 4,
 "nbformat_minor": 5
}